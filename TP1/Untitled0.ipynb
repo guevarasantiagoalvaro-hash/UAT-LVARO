{
  "nbformat": 4,
  "nbformat_minor": 0,
  "metadata": {
    "colab": {
      "provenance": [],
      "authorship_tag": "ABX9TyMugJ2Jd6EbGjpXNMUtZD63",
      "include_colab_link": true
    },
    "kernelspec": {
      "name": "python3",
      "display_name": "Python 3"
    },
    "language_info": {
      "name": "python"
    }
  },
  "cells": [
    {
      "cell_type": "markdown",
      "metadata": {
        "id": "view-in-github",
        "colab_type": "text"
      },
      "source": [
        "<a href=\"https://colab.research.google.com/github/guevarasantiagoalvaro-hash/UAT-LVARO/blob/main/TP1/Untitled0.ipynb\" target=\"_parent\"><img src=\"https://colab.research.google.com/assets/colab-badge.svg\" alt=\"Open In Colab\"/></a>"
      ]
    },
    {
      "cell_type": "markdown",
      "source": [
        "Álvaro"
      ],
      "metadata": {
        "id": "AaWg18IJ-C4P"
      }
    },
    {
      "cell_type": "code",
      "source": [
        " Num1 = 10\n",
        " print(Num1)\n",
        " Num2 = 6\n",
        " Num2\n",
        " print(Num2)\n",
        " Num3 = Num1 + Num2\n",
        " print(Num3)\n",
        " Num4 = Num3 + 19\n",
        " Num4\n",
        " Mayor_Edad = True\n",
        " a = 34.56\n",
        " a\n",
        " entero, flotante, complejo, booleano = 12, 4.5, (12.3 + 23j), True\n",
        " print(complejo)"
      ],
      "metadata": {
        "id": "LJBewBuH_mz3",
        "outputId": "5ca82320-9311-4dac-8d9d-fc98d58609f1",
        "colab": {
          "base_uri": "https://localhost:8080/"
        }
      },
      "execution_count": 13,
      "outputs": [
        {
          "output_type": "stream",
          "name": "stdout",
          "text": [
            "10\n",
            "6\n",
            "16\n",
            "(12.3+23j)\n"
          ]
        }
      ]
    },
    {
      "cell_type": "code",
      "source": [
        "help(\"keywords\")"
      ],
      "metadata": {
        "colab": {
          "base_uri": "https://localhost:8080/"
        },
        "id": "mTGPVvNA-QAv",
        "outputId": "34c6672b-f818-4164-d14e-5944053362f3"
      },
      "execution_count": 3,
      "outputs": [
        {
          "output_type": "stream",
          "name": "stdout",
          "text": [
            "\n",
            "Here is a list of the Python keywords.  Enter any keyword to get more help.\n",
            "\n",
            "False               class               from                or\n",
            "None                continue            global              pass\n",
            "True                def                 if                  raise\n",
            "and                 del                 import              return\n",
            "as                  elif                in                  try\n",
            "assert              else                is                  while\n",
            "async               except              lambda              with\n",
            "await               finally             nonlocal            yield\n",
            "break               for                 not                 \n",
            "\n"
          ]
        }
      ]
    }
  ]
}