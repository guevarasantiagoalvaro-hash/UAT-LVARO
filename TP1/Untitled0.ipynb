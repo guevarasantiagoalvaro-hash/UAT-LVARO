{
  "nbformat": 4,
  "nbformat_minor": 0,
  "metadata": {
    "colab": {
      "provenance": [],
      "authorship_tag": "ABX9TyNzRZdAe+aakoXQgZZWAeF8",
      "include_colab_link": true
    },
    "kernelspec": {
      "name": "python3",
      "display_name": "Python 3"
    },
    "language_info": {
      "name": "python"
    }
  },
  "cells": [
    {
      "cell_type": "markdown",
      "metadata": {
        "id": "view-in-github",
        "colab_type": "text"
      },
      "source": [
        "<a href=\"https://colab.research.google.com/github/guevarasantiagoalvaro-hash/UAT-LVARO/blob/main/TP1/Untitled0.ipynb\" target=\"_parent\"><img src=\"https://colab.research.google.com/assets/colab-badge.svg\" alt=\"Open In Colab\"/></a>"
      ]
    },
    {
      "cell_type": "markdown",
      "source": [
        "Álvaro"
      ],
      "metadata": {
        "id": "AaWg18IJ-C4P"
      }
    },
    {
      "cell_type": "code",
      "source": [
        " Num1 = 10\n",
        " print(Num1)\n",
        " Num2 = 6\n",
        " Num2\n",
        " print(Num2)\n",
        " Num3 = Num1 + Num2\n",
        " print(Num3)\n",
        " Num4 = Num3 + 19\n",
        " Num4\n",
        " Mayor_Edad = True\n",
        " a = 34.56\n",
        " a\n",
        " entero, flotante, complejo, booleano = 12, 4.5, (12.3 + 23j), True\n",
        " print(complejo)"
      ],
      "metadata": {
        "id": "LJBewBuH_mz3",
        "outputId": "5ca82320-9311-4dac-8d9d-fc98d58609f1",
        "colab": {
          "base_uri": "https://localhost:8080/"
        }
      },
      "execution_count": null,
      "outputs": [
        {
          "output_type": "stream",
          "name": "stdout",
          "text": [
            "10\n",
            "6\n",
            "16\n",
            "(12.3+23j)\n"
          ]
        }
      ]
    },
    {
      "cell_type": "code",
      "source": [
        "help(\"keywords\")"
      ],
      "metadata": {
        "colab": {
          "base_uri": "https://localhost:8080/"
        },
        "id": "mTGPVvNA-QAv",
        "outputId": "34c6672b-f818-4164-d14e-5944053362f3"
      },
      "execution_count": null,
      "outputs": [
        {
          "output_type": "stream",
          "name": "stdout",
          "text": [
            "\n",
            "Here is a list of the Python keywords.  Enter any keyword to get more help.\n",
            "\n",
            "False               class               from                or\n",
            "None                continue            global              pass\n",
            "True                def                 if                  raise\n",
            "and                 del                 import              return\n",
            "as                  elif                in                  try\n",
            "assert              else                is                  while\n",
            "async               except              lambda              with\n",
            "await               finally             nonlocal            yield\n",
            "break               for                 not                 \n",
            "\n"
          ]
        }
      ]
    },
    {
      "cell_type": "markdown",
      "source": [
        "EJERCICIO 1 VELOCIDAD Y MAXIMO COMUN DIVISOR"
      ],
      "metadata": {
        "id": "NvcPleWExj4R"
      }
    },
    {
      "cell_type": "code",
      "metadata": {
        "colab": {
          "base_uri": "https://localhost:8080/"
        },
        "id": "1176a88f",
        "outputId": "b8d8ebbb-e9c9-4a68-82a9-933783c519c8"
      },
      "source": [
        "# Algoritmo para calcular la velocidad\n",
        "\n",
        "# Asignar valores a la distancia y el tiempo\n",
        "distancia = 383.0  # Ejemplo: 383 metros\n",
        "tiempo = 99.0     # Ejemplo: 99 segundos\n",
        "\n",
        "# Calcular la velocidad (velocidad = distancia / tiempo)\n",
        "# Asegurarse de que el tiempo no sea cero para evitar división por cero\n",
        "if tiempo > 0:\n",
        "  velocidad = distancia / tiempo\n",
        "  print(f\"La velocidad es: {velocidad} m/s\")\n",
        "else:\n",
        "  print(\"El tiempo no puede ser cero.\")"
      ],
      "execution_count": null,
      "outputs": [
        {
          "output_type": "stream",
          "name": "stdout",
          "text": [
            "La velocidad es: 3.8686868686868685 m/s\n"
          ]
        }
      ]
    },
    {
      "cell_type": "code",
      "metadata": {
        "id": "1441f57d",
        "outputId": "44db7379-68c3-4e49-d824-a0a6c95a6e6c",
        "colab": {
          "base_uri": "https://localhost:8080/"
        }
      },
      "source": [
        "# Función para calcular el Máximo Común Divisor (MCD) usando el algoritmo de Euclides\n",
        "def calcular_mcd(a, b):\n",
        "  # El algoritmo de Euclides dice que el MCD de a y b es igual al MCD de b y el resto de la división de a por b.\n",
        "  # Repetimos hasta que el resto sea 0.\n",
        "  while b:\n",
        "    a, b = b, a % b\n",
        "  return a\n",
        "\n",
        "# Asignamos los valores a los que queremos calcular el MCD\n",
        "numero1 = 78\n",
        "numero2 = 24\n",
        "\n",
        "# Llamamos a la función para calcular el MCD\n",
        "mcd = calcular_mcd(numero1, numero2)\n",
        "\n",
        "# Imprimimos el resultado\n",
        "print(f\"El Máximo Común Divisor de {numero1} y {numero2} es: {mcd}\")"
      ],
      "execution_count": null,
      "outputs": [
        {
          "output_type": "stream",
          "name": "stdout",
          "text": [
            "El Máximo Común Divisor de 78 y 24 es: 6\n"
          ]
        }
      ]
    },
    {
      "cell_type": "code",
      "source": [
        "numero = 78.3"
      ],
      "metadata": {
        "id": "2G85x-W9BUVm"
      },
      "execution_count": null,
      "outputs": []
    },
    {
      "cell_type": "code",
      "source": [
        " \"carro\" .upper()"
      ],
      "metadata": {
        "id": "IJS4pg9WBirl",
        "outputId": "b4cfbb1e-8567-4a17-ebd0-b0ef2eb57b83",
        "colab": {
          "base_uri": "https://localhost:8080/",
          "height": 35
        }
      },
      "execution_count": 8,
      "outputs": [
        {
          "output_type": "execute_result",
          "data": {
            "text/plain": [
              "'CARRO'"
            ],
            "application/vnd.google.colaboratory.intrinsic+json": {
              "type": "string"
            }
          },
          "metadata": {},
          "execution_count": 8
        }
      ]
    },
    {
      "cell_type": "code",
      "source": [
        "len('tilin')"
      ],
      "metadata": {
        "id": "11ypq6roCVb2",
        "outputId": "64868d6d-132d-41ad-c4bb-e096619b886e",
        "colab": {
          "base_uri": "https://localhost:8080/"
        }
      },
      "execution_count": 10,
      "outputs": [
        {
          "output_type": "execute_result",
          "data": {
            "text/plain": [
              "5"
            ]
          },
          "metadata": {},
          "execution_count": 10
        }
      ]
    },
    {
      "cell_type": "code",
      "source": [],
      "metadata": {
        "id": "VFHl68FnCqXX"
      },
      "execution_count": null,
      "outputs": []
    },
    {
      "cell_type": "markdown",
      "source": [
        "el interprete de python permite ejecutar multiples ejecucion de varias expresiones en una sola linea"
      ],
      "metadata": {
        "id": "twLWcoJDC3Um"
      }
    },
    {
      "cell_type": "code",
      "source": [
        "a = 3; \"hola\" .upper(); a+5"
      ],
      "metadata": {
        "id": "2I-fmeT_DH7e",
        "outputId": "6007cdbb-52ee-477b-c325-4c47b6a43e67",
        "colab": {
          "base_uri": "https://localhost:8080/"
        }
      },
      "execution_count": 11,
      "outputs": [
        {
          "output_type": "execute_result",
          "data": {
            "text/plain": [
              "8"
            ]
          },
          "metadata": {},
          "execution_count": 11
        }
      ]
    },
    {
      "cell_type": "code",
      "source": [
        "a += 11; 'amigos' * 3; a == 1"
      ],
      "metadata": {
        "id": "qELgOZgnDahW",
        "outputId": "31d90af8-e2dd-4e79-ed76-3f91da87f007",
        "colab": {
          "base_uri": "https://localhost:8080/"
        }
      },
      "execution_count": 12,
      "outputs": [
        {
          "output_type": "execute_result",
          "data": {
            "text/plain": [
              "False"
            ]
          },
          "metadata": {},
          "execution_count": 12
        }
      ]
    },
    {
      "cell_type": "code",
      "source": [
        "4 * 3"
      ],
      "metadata": {
        "id": "dVlH_j-1D4Hu",
        "outputId": "9067a78d-25e7-46f3-8714-77138d0caa03",
        "colab": {
          "base_uri": "https://localhost:8080/"
        }
      },
      "execution_count": 13,
      "outputs": [
        {
          "output_type": "execute_result",
          "data": {
            "text/plain": [
              "12"
            ]
          },
          "metadata": {},
          "execution_count": 13
        }
      ]
    },
    {
      "cell_type": "code",
      "source": [
        "15 == 25"
      ],
      "metadata": {
        "id": "dAhVIv90D8cQ",
        "outputId": "fcd2dadd-f312-4498-fe9d-12cfe29dd953",
        "colab": {
          "base_uri": "https://localhost:8080/"
        }
      },
      "execution_count": 14,
      "outputs": [
        {
          "output_type": "execute_result",
          "data": {
            "text/plain": [
              "False"
            ]
          },
          "metadata": {},
          "execution_count": 14
        }
      ]
    },
    {
      "cell_type": "code",
      "source": [
        "'eso' + 'tilin'"
      ],
      "metadata": {
        "id": "dAhROZwaEB-W",
        "outputId": "103f8389-d2a1-47eb-dfc0-dd3461eccb14",
        "colab": {
          "base_uri": "https://localhost:8080/",
          "height": 35
        }
      },
      "execution_count": 16,
      "outputs": [
        {
          "output_type": "execute_result",
          "data": {
            "text/plain": [
              "'esotilin'"
            ],
            "application/vnd.google.colaboratory.intrinsic+json": {
              "type": "string"
            }
          },
          "metadata": {},
          "execution_count": 16
        }
      ]
    },
    {
      "cell_type": "code",
      "source": [
        "15 + 23 # El resultado es 38"
      ],
      "metadata": {
        "id": "2OyqkGNsEMS2",
        "outputId": "d73728e9-98a7-4e43-bc72-5254048ccf10",
        "colab": {
          "base_uri": "https://localhost:8080/"
        }
      },
      "execution_count": 17,
      "outputs": [
        {
          "output_type": "execute_result",
          "data": {
            "text/plain": [
              "38"
            ]
          },
          "metadata": {},
          "execution_count": 17
        }
      ]
    },
    {
      "cell_type": "markdown",
      "source": [
        "DOGSTRINGS\n",
        "\n",
        "python permite incluis comentarios de varias lineas. estos deben estar encerrados entre triples comillas \"\"\" apostrofes'''.\n",
        "\n",
        "la siguiente celda define una funcion con nombre funcion()"
      ],
      "metadata": {
        "id": "0QCfTm-mEa12"
      }
    },
    {
      "cell_type": "code",
      "source": [
        "\n"
      ],
      "metadata": {
        "id": "QtctW0duFAbv"
      },
      "execution_count": 18,
      "outputs": []
    }
  ]
}